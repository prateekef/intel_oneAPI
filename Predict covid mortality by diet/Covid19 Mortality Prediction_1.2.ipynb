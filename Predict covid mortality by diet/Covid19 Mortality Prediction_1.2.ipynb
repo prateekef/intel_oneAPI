{
 "cells": [
  {
   "cell_type": "markdown",
   "metadata": {},
   "source": [
    "# Task for Today  \n",
    "\n",
    "***\n",
    "\n",
    "## Predicting COVID-19 Mortality Based on Diet  \n",
    "\n",
    "Given *data about various countries and their daily intakes of different food groups*, let's try to predict whether a given country will have a **high or low COVID-19 mortality rate**.\n",
    "\n",
    "We will use a TensorFlow ANN to make our predictions."
   ]
  },
  {
   "cell_type": "markdown",
   "metadata": {},
   "source": [
    "# Getting Started"
   ]
  },
  {
   "cell_type": "code",
   "execution_count": 1,
   "metadata": {},
   "outputs": [
    {
     "name": "stdout",
     "output_type": "stream",
     "text": [
      "WARNING: pip is being invoked by an old script wrapper. This will fail in a future version of pip.\n",
      "Please see https://github.com/pypa/pip/issues/5599 for advice on fixing the underlying issue.\n",
      "To avoid this problem you can invoke Python with '-m pip' instead of running pip directly.\n",
      "Defaulting to user installation because normal site-packages is not writeable\n",
      "Requirement already satisfied: numpy in /home/u69631/.local/lib/python3.7/site-packages (1.21.0)\n"
     ]
    }
   ],
   "source": [
    "! pip install --upgrade numpy"
   ]
  },
  {
   "cell_type": "code",
   "execution_count": 2,
   "metadata": {
    "_cell_guid": "79c7e3d0-c299-4dcb-8224-4455121ee9b0",
    "_uuid": "d629ff2d2480ee46fbb7e2d37f6b5fab8052498a"
   },
   "outputs": [],
   "source": [
    "import numpy as np\n",
    "import pandas as pd\n",
    "import plotly.express as px\n",
    "\n",
    "from sklearn.preprocessing import StandardScaler\n",
    "from sklearn.model_selection import train_test_split\n",
    "\n",
    "import tensorflow as tf"
   ]
  },
  {
   "cell_type": "code",
   "execution_count": 3,
   "metadata": {},
   "outputs": [],
   "source": [
    "data = pd.read_csv('Food_Supply_Quantity_kg_Data.csv')"
   ]
  },
  {
   "cell_type": "code",
   "execution_count": 4,
   "metadata": {},
   "outputs": [
    {
     "data": {
      "text/html": [
       "<div>\n",
       "<style scoped>\n",
       "    .dataframe tbody tr th:only-of-type {\n",
       "        vertical-align: middle;\n",
       "    }\n",
       "\n",
       "    .dataframe tbody tr th {\n",
       "        vertical-align: top;\n",
       "    }\n",
       "\n",
       "    .dataframe thead th {\n",
       "        text-align: right;\n",
       "    }\n",
       "</style>\n",
       "<table border=\"1\" class=\"dataframe\">\n",
       "  <thead>\n",
       "    <tr style=\"text-align: right;\">\n",
       "      <th></th>\n",
       "      <th>Country</th>\n",
       "      <th>Alcoholic Beverages</th>\n",
       "      <th>Animal fats</th>\n",
       "      <th>Animal Products</th>\n",
       "      <th>Aquatic Products, Other</th>\n",
       "      <th>Cereals - Excluding Beer</th>\n",
       "      <th>Eggs</th>\n",
       "      <th>Fish, Seafood</th>\n",
       "      <th>Fruits - Excluding Wine</th>\n",
       "      <th>Meat</th>\n",
       "      <th>...</th>\n",
       "      <th>Vegetables</th>\n",
       "      <th>Vegetal Products</th>\n",
       "      <th>Obesity</th>\n",
       "      <th>Undernourished</th>\n",
       "      <th>Confirmed</th>\n",
       "      <th>Deaths</th>\n",
       "      <th>Recovered</th>\n",
       "      <th>Active</th>\n",
       "      <th>Population</th>\n",
       "      <th>Unit (all except Population)</th>\n",
       "    </tr>\n",
       "  </thead>\n",
       "  <tbody>\n",
       "    <tr>\n",
       "      <th>0</th>\n",
       "      <td>Afghanistan</td>\n",
       "      <td>0.0014</td>\n",
       "      <td>0.1973</td>\n",
       "      <td>9.4341</td>\n",
       "      <td>0.0000</td>\n",
       "      <td>24.8097</td>\n",
       "      <td>0.2099</td>\n",
       "      <td>0.0350</td>\n",
       "      <td>5.3495</td>\n",
       "      <td>1.2020</td>\n",
       "      <td>...</td>\n",
       "      <td>6.7642</td>\n",
       "      <td>40.5645</td>\n",
       "      <td>4.5</td>\n",
       "      <td>29.8</td>\n",
       "      <td>0.142134</td>\n",
       "      <td>0.006186</td>\n",
       "      <td>0.123374</td>\n",
       "      <td>0.012574</td>\n",
       "      <td>38928000.0</td>\n",
       "      <td>%</td>\n",
       "    </tr>\n",
       "    <tr>\n",
       "      <th>1</th>\n",
       "      <td>Albania</td>\n",
       "      <td>1.6719</td>\n",
       "      <td>0.1357</td>\n",
       "      <td>18.7684</td>\n",
       "      <td>0.0000</td>\n",
       "      <td>5.7817</td>\n",
       "      <td>0.5815</td>\n",
       "      <td>0.2126</td>\n",
       "      <td>6.7861</td>\n",
       "      <td>1.8845</td>\n",
       "      <td>...</td>\n",
       "      <td>11.7753</td>\n",
       "      <td>31.2304</td>\n",
       "      <td>22.3</td>\n",
       "      <td>6.2</td>\n",
       "      <td>2.967301</td>\n",
       "      <td>0.050951</td>\n",
       "      <td>1.792636</td>\n",
       "      <td>1.123714</td>\n",
       "      <td>2838000.0</td>\n",
       "      <td>%</td>\n",
       "    </tr>\n",
       "    <tr>\n",
       "      <th>2</th>\n",
       "      <td>Algeria</td>\n",
       "      <td>0.2711</td>\n",
       "      <td>0.0282</td>\n",
       "      <td>9.6334</td>\n",
       "      <td>0.0000</td>\n",
       "      <td>13.6816</td>\n",
       "      <td>0.5277</td>\n",
       "      <td>0.2416</td>\n",
       "      <td>6.3801</td>\n",
       "      <td>1.1305</td>\n",
       "      <td>...</td>\n",
       "      <td>11.6484</td>\n",
       "      <td>40.3651</td>\n",
       "      <td>26.6</td>\n",
       "      <td>3.9</td>\n",
       "      <td>0.244897</td>\n",
       "      <td>0.006558</td>\n",
       "      <td>0.167572</td>\n",
       "      <td>0.070767</td>\n",
       "      <td>44357000.0</td>\n",
       "      <td>%</td>\n",
       "    </tr>\n",
       "    <tr>\n",
       "      <th>3</th>\n",
       "      <td>Angola</td>\n",
       "      <td>5.8087</td>\n",
       "      <td>0.0560</td>\n",
       "      <td>4.9278</td>\n",
       "      <td>0.0000</td>\n",
       "      <td>9.1085</td>\n",
       "      <td>0.0587</td>\n",
       "      <td>1.7707</td>\n",
       "      <td>6.0005</td>\n",
       "      <td>2.0571</td>\n",
       "      <td>...</td>\n",
       "      <td>2.3041</td>\n",
       "      <td>45.0722</td>\n",
       "      <td>6.8</td>\n",
       "      <td>25</td>\n",
       "      <td>0.061687</td>\n",
       "      <td>0.001461</td>\n",
       "      <td>0.056808</td>\n",
       "      <td>0.003419</td>\n",
       "      <td>32522000.0</td>\n",
       "      <td>%</td>\n",
       "    </tr>\n",
       "    <tr>\n",
       "      <th>4</th>\n",
       "      <td>Antigua and Barbuda</td>\n",
       "      <td>3.5764</td>\n",
       "      <td>0.0087</td>\n",
       "      <td>16.6613</td>\n",
       "      <td>0.0000</td>\n",
       "      <td>5.9960</td>\n",
       "      <td>0.2274</td>\n",
       "      <td>4.1489</td>\n",
       "      <td>10.7451</td>\n",
       "      <td>5.6888</td>\n",
       "      <td>...</td>\n",
       "      <td>5.4495</td>\n",
       "      <td>33.3233</td>\n",
       "      <td>19.1</td>\n",
       "      <td>NaN</td>\n",
       "      <td>0.293878</td>\n",
       "      <td>0.007143</td>\n",
       "      <td>0.190816</td>\n",
       "      <td>0.095918</td>\n",
       "      <td>98000.0</td>\n",
       "      <td>%</td>\n",
       "    </tr>\n",
       "    <tr>\n",
       "      <th>...</th>\n",
       "      <td>...</td>\n",
       "      <td>...</td>\n",
       "      <td>...</td>\n",
       "      <td>...</td>\n",
       "      <td>...</td>\n",
       "      <td>...</td>\n",
       "      <td>...</td>\n",
       "      <td>...</td>\n",
       "      <td>...</td>\n",
       "      <td>...</td>\n",
       "      <td>...</td>\n",
       "      <td>...</td>\n",
       "      <td>...</td>\n",
       "      <td>...</td>\n",
       "      <td>...</td>\n",
       "      <td>...</td>\n",
       "      <td>...</td>\n",
       "      <td>...</td>\n",
       "      <td>...</td>\n",
       "      <td>...</td>\n",
       "      <td>...</td>\n",
       "    </tr>\n",
       "    <tr>\n",
       "      <th>165</th>\n",
       "      <td>Venezuela (Bolivarian Republic of)</td>\n",
       "      <td>2.5952</td>\n",
       "      <td>0.0403</td>\n",
       "      <td>14.7565</td>\n",
       "      <td>0.0000</td>\n",
       "      <td>12.9253</td>\n",
       "      <td>0.3389</td>\n",
       "      <td>0.9456</td>\n",
       "      <td>7.6460</td>\n",
       "      <td>3.8328</td>\n",
       "      <td>...</td>\n",
       "      <td>4.1474</td>\n",
       "      <td>35.2416</td>\n",
       "      <td>25.2</td>\n",
       "      <td>21.2</td>\n",
       "      <td>0.452585</td>\n",
       "      <td>0.004287</td>\n",
       "      <td>0.424399</td>\n",
       "      <td>0.023899</td>\n",
       "      <td>28645000.0</td>\n",
       "      <td>%</td>\n",
       "    </tr>\n",
       "    <tr>\n",
       "      <th>166</th>\n",
       "      <td>Vietnam</td>\n",
       "      <td>1.4591</td>\n",
       "      <td>0.1640</td>\n",
       "      <td>8.5765</td>\n",
       "      <td>0.0042</td>\n",
       "      <td>16.8740</td>\n",
       "      <td>0.3077</td>\n",
       "      <td>2.6392</td>\n",
       "      <td>5.9029</td>\n",
       "      <td>4.4382</td>\n",
       "      <td>...</td>\n",
       "      <td>11.9508</td>\n",
       "      <td>41.4232</td>\n",
       "      <td>2.1</td>\n",
       "      <td>9.3</td>\n",
       "      <td>0.002063</td>\n",
       "      <td>0.000036</td>\n",
       "      <td>0.001526</td>\n",
       "      <td>0.000501</td>\n",
       "      <td>96209000.0</td>\n",
       "      <td>%</td>\n",
       "    </tr>\n",
       "    <tr>\n",
       "      <th>167</th>\n",
       "      <td>Yemen</td>\n",
       "      <td>0.0364</td>\n",
       "      <td>0.0446</td>\n",
       "      <td>5.7874</td>\n",
       "      <td>0.0000</td>\n",
       "      <td>27.2077</td>\n",
       "      <td>0.2579</td>\n",
       "      <td>0.5240</td>\n",
       "      <td>5.1344</td>\n",
       "      <td>2.7871</td>\n",
       "      <td>...</td>\n",
       "      <td>3.2135</td>\n",
       "      <td>44.2126</td>\n",
       "      <td>14.1</td>\n",
       "      <td>38.9</td>\n",
       "      <td>0.007131</td>\n",
       "      <td>0.002062</td>\n",
       "      <td>0.004788</td>\n",
       "      <td>0.000282</td>\n",
       "      <td>29826000.0</td>\n",
       "      <td>%</td>\n",
       "    </tr>\n",
       "    <tr>\n",
       "      <th>168</th>\n",
       "      <td>Zambia</td>\n",
       "      <td>5.7360</td>\n",
       "      <td>0.0829</td>\n",
       "      <td>6.0197</td>\n",
       "      <td>0.0000</td>\n",
       "      <td>21.1938</td>\n",
       "      <td>0.3399</td>\n",
       "      <td>1.6924</td>\n",
       "      <td>1.0183</td>\n",
       "      <td>1.8427</td>\n",
       "      <td>...</td>\n",
       "      <td>3.4649</td>\n",
       "      <td>43.9789</td>\n",
       "      <td>6.5</td>\n",
       "      <td>46.7</td>\n",
       "      <td>0.334133</td>\n",
       "      <td>0.004564</td>\n",
       "      <td>0.290524</td>\n",
       "      <td>0.039045</td>\n",
       "      <td>18384000.0</td>\n",
       "      <td>%</td>\n",
       "    </tr>\n",
       "    <tr>\n",
       "      <th>169</th>\n",
       "      <td>Zimbabwe</td>\n",
       "      <td>4.0552</td>\n",
       "      <td>0.0755</td>\n",
       "      <td>8.1489</td>\n",
       "      <td>0.0000</td>\n",
       "      <td>22.6240</td>\n",
       "      <td>0.2678</td>\n",
       "      <td>0.5518</td>\n",
       "      <td>2.2000</td>\n",
       "      <td>2.6142</td>\n",
       "      <td>...</td>\n",
       "      <td>2.3213</td>\n",
       "      <td>41.8526</td>\n",
       "      <td>12.3</td>\n",
       "      <td>51.3</td>\n",
       "      <td>0.232033</td>\n",
       "      <td>0.008854</td>\n",
       "      <td>0.190964</td>\n",
       "      <td>0.032214</td>\n",
       "      <td>14863000.0</td>\n",
       "      <td>%</td>\n",
       "    </tr>\n",
       "  </tbody>\n",
       "</table>\n",
       "<p>170 rows × 32 columns</p>\n",
       "</div>"
      ],
      "text/plain": [
       "                                Country  Alcoholic Beverages  Animal fats  \\\n",
       "0                           Afghanistan               0.0014       0.1973   \n",
       "1                               Albania               1.6719       0.1357   \n",
       "2                               Algeria               0.2711       0.0282   \n",
       "3                                Angola               5.8087       0.0560   \n",
       "4                   Antigua and Barbuda               3.5764       0.0087   \n",
       "..                                  ...                  ...          ...   \n",
       "165  Venezuela (Bolivarian Republic of)               2.5952       0.0403   \n",
       "166                             Vietnam               1.4591       0.1640   \n",
       "167                               Yemen               0.0364       0.0446   \n",
       "168                              Zambia               5.7360       0.0829   \n",
       "169                            Zimbabwe               4.0552       0.0755   \n",
       "\n",
       "     Animal Products  Aquatic Products, Other  Cereals - Excluding Beer  \\\n",
       "0             9.4341                   0.0000                   24.8097   \n",
       "1            18.7684                   0.0000                    5.7817   \n",
       "2             9.6334                   0.0000                   13.6816   \n",
       "3             4.9278                   0.0000                    9.1085   \n",
       "4            16.6613                   0.0000                    5.9960   \n",
       "..               ...                      ...                       ...   \n",
       "165          14.7565                   0.0000                   12.9253   \n",
       "166           8.5765                   0.0042                   16.8740   \n",
       "167           5.7874                   0.0000                   27.2077   \n",
       "168           6.0197                   0.0000                   21.1938   \n",
       "169           8.1489                   0.0000                   22.6240   \n",
       "\n",
       "       Eggs  Fish, Seafood  Fruits - Excluding Wine    Meat  ...  Vegetables  \\\n",
       "0    0.2099         0.0350                   5.3495  1.2020  ...      6.7642   \n",
       "1    0.5815         0.2126                   6.7861  1.8845  ...     11.7753   \n",
       "2    0.5277         0.2416                   6.3801  1.1305  ...     11.6484   \n",
       "3    0.0587         1.7707                   6.0005  2.0571  ...      2.3041   \n",
       "4    0.2274         4.1489                  10.7451  5.6888  ...      5.4495   \n",
       "..      ...            ...                      ...     ...  ...         ...   \n",
       "165  0.3389         0.9456                   7.6460  3.8328  ...      4.1474   \n",
       "166  0.3077         2.6392                   5.9029  4.4382  ...     11.9508   \n",
       "167  0.2579         0.5240                   5.1344  2.7871  ...      3.2135   \n",
       "168  0.3399         1.6924                   1.0183  1.8427  ...      3.4649   \n",
       "169  0.2678         0.5518                   2.2000  2.6142  ...      2.3213   \n",
       "\n",
       "     Vegetal Products  Obesity  Undernourished  Confirmed    Deaths  \\\n",
       "0             40.5645      4.5            29.8   0.142134  0.006186   \n",
       "1             31.2304     22.3             6.2   2.967301  0.050951   \n",
       "2             40.3651     26.6             3.9   0.244897  0.006558   \n",
       "3             45.0722      6.8              25   0.061687  0.001461   \n",
       "4             33.3233     19.1             NaN   0.293878  0.007143   \n",
       "..                ...      ...             ...        ...       ...   \n",
       "165           35.2416     25.2            21.2   0.452585  0.004287   \n",
       "166           41.4232      2.1             9.3   0.002063  0.000036   \n",
       "167           44.2126     14.1            38.9   0.007131  0.002062   \n",
       "168           43.9789      6.5            46.7   0.334133  0.004564   \n",
       "169           41.8526     12.3            51.3   0.232033  0.008854   \n",
       "\n",
       "     Recovered    Active  Population  Unit (all except Population)  \n",
       "0     0.123374  0.012574  38928000.0                             %  \n",
       "1     1.792636  1.123714   2838000.0                             %  \n",
       "2     0.167572  0.070767  44357000.0                             %  \n",
       "3     0.056808  0.003419  32522000.0                             %  \n",
       "4     0.190816  0.095918     98000.0                             %  \n",
       "..         ...       ...         ...                           ...  \n",
       "165   0.424399  0.023899  28645000.0                             %  \n",
       "166   0.001526  0.000501  96209000.0                             %  \n",
       "167   0.004788  0.000282  29826000.0                             %  \n",
       "168   0.290524  0.039045  18384000.0                             %  \n",
       "169   0.190964  0.032214  14863000.0                             %  \n",
       "\n",
       "[170 rows x 32 columns]"
      ]
     },
     "execution_count": 4,
     "metadata": {},
     "output_type": "execute_result"
    }
   ],
   "source": [
    "data"
   ]
  },
  {
   "cell_type": "code",
   "execution_count": 5,
   "metadata": {},
   "outputs": [
    {
     "name": "stdout",
     "output_type": "stream",
     "text": [
      "<class 'pandas.core.frame.DataFrame'>\n",
      "RangeIndex: 170 entries, 0 to 169\n",
      "Data columns (total 32 columns):\n",
      " #   Column                        Non-Null Count  Dtype  \n",
      "---  ------                        --------------  -----  \n",
      " 0   Country                       170 non-null    object \n",
      " 1   Alcoholic Beverages           170 non-null    float64\n",
      " 2   Animal fats                   170 non-null    float64\n",
      " 3   Animal Products               170 non-null    float64\n",
      " 4   Aquatic Products, Other       170 non-null    float64\n",
      " 5   Cereals - Excluding Beer      170 non-null    float64\n",
      " 6   Eggs                          170 non-null    float64\n",
      " 7   Fish, Seafood                 170 non-null    float64\n",
      " 8   Fruits - Excluding Wine       170 non-null    float64\n",
      " 9   Meat                          170 non-null    float64\n",
      " 10  Milk - Excluding Butter       170 non-null    float64\n",
      " 11  Miscellaneous                 170 non-null    float64\n",
      " 12  Offals                        170 non-null    float64\n",
      " 13  Oilcrops                      170 non-null    float64\n",
      " 14  Pulses                        170 non-null    float64\n",
      " 15  Spices                        170 non-null    float64\n",
      " 16  Starchy Roots                 170 non-null    float64\n",
      " 17  Stimulants                    170 non-null    float64\n",
      " 18  Sugar & Sweeteners            170 non-null    float64\n",
      " 19  Sugar Crops                   170 non-null    float64\n",
      " 20  Treenuts                      170 non-null    float64\n",
      " 21  Vegetable Oils                170 non-null    float64\n",
      " 22  Vegetables                    170 non-null    float64\n",
      " 23  Vegetal Products              170 non-null    float64\n",
      " 24  Obesity                       167 non-null    float64\n",
      " 25  Undernourished                163 non-null    object \n",
      " 26  Confirmed                     164 non-null    float64\n",
      " 27  Deaths                        164 non-null    float64\n",
      " 28  Recovered                     164 non-null    float64\n",
      " 29  Active                        162 non-null    float64\n",
      " 30  Population                    170 non-null    float64\n",
      " 31  Unit (all except Population)  170 non-null    object \n",
      "dtypes: float64(29), object(3)\n",
      "memory usage: 42.6+ KB\n"
     ]
    }
   ],
   "source": [
    "data.info()"
   ]
  },
  {
   "cell_type": "markdown",
   "metadata": {},
   "source": [
    "# Preprocessing"
   ]
  },
  {
   "cell_type": "code",
   "execution_count": 6,
   "metadata": {},
   "outputs": [],
   "source": [
    "data = data.drop('Unit (all except Population)', axis=1)"
   ]
  },
  {
   "cell_type": "markdown",
   "metadata": {},
   "source": [
    "## Missing Values"
   ]
  },
  {
   "cell_type": "code",
   "execution_count": 7,
   "metadata": {},
   "outputs": [
    {
     "data": {
      "text/plain": [
       "Country                     0\n",
       "Alcoholic Beverages         0\n",
       "Animal fats                 0\n",
       "Animal Products             0\n",
       "Aquatic Products, Other     0\n",
       "Cereals - Excluding Beer    0\n",
       "Eggs                        0\n",
       "Fish, Seafood               0\n",
       "Fruits - Excluding Wine     0\n",
       "Meat                        0\n",
       "Milk - Excluding Butter     0\n",
       "Miscellaneous               0\n",
       "Offals                      0\n",
       "Oilcrops                    0\n",
       "Pulses                      0\n",
       "Spices                      0\n",
       "Starchy Roots               0\n",
       "Stimulants                  0\n",
       "Sugar & Sweeteners          0\n",
       "Sugar Crops                 0\n",
       "Treenuts                    0\n",
       "Vegetable Oils              0\n",
       "Vegetables                  0\n",
       "Vegetal Products            0\n",
       "Obesity                     3\n",
       "Undernourished              7\n",
       "Confirmed                   6\n",
       "Deaths                      6\n",
       "Recovered                   6\n",
       "Active                      8\n",
       "Population                  0\n",
       "dtype: int64"
      ]
     },
     "execution_count": 7,
     "metadata": {},
     "output_type": "execute_result"
    }
   ],
   "source": [
    "data.isna().sum()"
   ]
  },
  {
   "cell_type": "code",
   "execution_count": 8,
   "metadata": {},
   "outputs": [],
   "source": [
    "for column in data.columns:\n",
    "    if data.dtypes[column] != 'object' and data.isna().sum()[column] > 0:\n",
    "        data[column] = data[column].fillna(data[column].mean())"
   ]
  },
  {
   "cell_type": "markdown",
   "metadata": {},
   "source": [
    "### Dealing with the Undernourished column"
   ]
  },
  {
   "cell_type": "code",
   "execution_count": 9,
   "metadata": {},
   "outputs": [
    {
     "data": {
      "text/plain": [
       "<2.5    44\n",
       "2.7      3\n",
       "16.5     3\n",
       "7.1      3\n",
       "6.2      3\n",
       "        ..\n",
       "7        1\n",
       "2.5      1\n",
       "41       1\n",
       "29.4     1\n",
       "30.7     1\n",
       "Name: Undernourished, Length: 98, dtype: int64"
      ]
     },
     "execution_count": 9,
     "metadata": {},
     "output_type": "execute_result"
    }
   ],
   "source": [
    "data['Undernourished'].value_counts()"
   ]
  },
  {
   "cell_type": "code",
   "execution_count": 10,
   "metadata": {},
   "outputs": [
    {
     "name": "stderr",
     "output_type": "stream",
     "text": [
      "/opt/intel/inteloneapi/intelpython/latest/lib/python3.7/site-packages/ipykernel_launcher.py:1: DeprecationWarning: `np.float` is a deprecated alias for the builtin `float`. To silence this warning, use `float` by itself. Doing this will not modify any behavior and is safe. If you specifically wanted the numpy scalar type, use `np.float64` here.\n",
      "Deprecated in NumPy 1.20; for more details and guidance: https://numpy.org/devdocs/release/1.20.0-notes.html#deprecations\n",
      "  \"\"\"Entry point for launching an IPython kernel.\n"
     ]
    },
    {
     "data": {
      "text/plain": [
       "0      29.8\n",
       "1       6.2\n",
       "2       3.9\n",
       "3      25.0\n",
       "4       NaN\n",
       "       ... \n",
       "165    21.2\n",
       "166     9.3\n",
       "167    38.9\n",
       "168    46.7\n",
       "169    51.3\n",
       "Name: Undernourished, Length: 126, dtype: float64"
      ]
     },
     "execution_count": 10,
     "metadata": {},
     "output_type": "execute_result"
    }
   ],
   "source": [
    "undernourished_numeric = data.loc[data['Undernourished'] != '<2.5', 'Undernourished'].astype(np.float)\n",
    "undernourished_numeric"
   ]
  },
  {
   "cell_type": "code",
   "execution_count": 11,
   "metadata": {},
   "outputs": [
    {
     "data": {
      "text/plain": [
       "0      3\n",
       "1      1\n",
       "2      1\n",
       "3      3\n",
       "4      2\n",
       "      ..\n",
       "165    3\n",
       "166    2\n",
       "167    3\n",
       "168    3\n",
       "169    3\n",
       "Name: Undernourished, Length: 126, dtype: category\n",
       "Categories (3, int64): [1 < 2 < 3]"
      ]
     },
     "execution_count": 11,
     "metadata": {},
     "output_type": "execute_result"
    }
   ],
   "source": [
    "undernourished_numeric = undernourished_numeric.fillna(undernourished_numeric.mean())\n",
    "undernourished_numeric = pd.qcut(undernourished_numeric, q=3, labels=[1, 2, 3])\n",
    "undernourished_numeric"
   ]
  },
  {
   "cell_type": "code",
   "execution_count": 12,
   "metadata": {},
   "outputs": [],
   "source": [
    "data.loc[undernourished_numeric.index, 'Undernourished'] = undernourished_numeric"
   ]
  },
  {
   "cell_type": "code",
   "execution_count": 13,
   "metadata": {},
   "outputs": [],
   "source": [
    "data['Undernourished'] = data['Undernourished'].apply(lambda x: 0 if x == '<2.5' else x)"
   ]
  },
  {
   "cell_type": "code",
   "execution_count": 14,
   "metadata": {},
   "outputs": [
    {
     "data": {
      "text/plain": [
       "0    44\n",
       "1    42\n",
       "2    42\n",
       "3    42\n",
       "Name: Undernourished, dtype: int64"
      ]
     },
     "execution_count": 14,
     "metadata": {},
     "output_type": "execute_result"
    }
   ],
   "source": [
    "data['Undernourished'].value_counts()"
   ]
  },
  {
   "cell_type": "code",
   "execution_count": 15,
   "metadata": {},
   "outputs": [
    {
     "data": {
      "text/html": [
       "<div>\n",
       "<style scoped>\n",
       "    .dataframe tbody tr th:only-of-type {\n",
       "        vertical-align: middle;\n",
       "    }\n",
       "\n",
       "    .dataframe tbody tr th {\n",
       "        vertical-align: top;\n",
       "    }\n",
       "\n",
       "    .dataframe thead th {\n",
       "        text-align: right;\n",
       "    }\n",
       "</style>\n",
       "<table border=\"1\" class=\"dataframe\">\n",
       "  <thead>\n",
       "    <tr style=\"text-align: right;\">\n",
       "      <th></th>\n",
       "      <th>Country</th>\n",
       "      <th>Alcoholic Beverages</th>\n",
       "      <th>Animal fats</th>\n",
       "      <th>Animal Products</th>\n",
       "      <th>Aquatic Products, Other</th>\n",
       "      <th>Cereals - Excluding Beer</th>\n",
       "      <th>Eggs</th>\n",
       "      <th>Fish, Seafood</th>\n",
       "      <th>Fruits - Excluding Wine</th>\n",
       "      <th>Meat</th>\n",
       "      <th>...</th>\n",
       "      <th>Vegetable Oils</th>\n",
       "      <th>Vegetables</th>\n",
       "      <th>Vegetal Products</th>\n",
       "      <th>Obesity</th>\n",
       "      <th>Undernourished</th>\n",
       "      <th>Confirmed</th>\n",
       "      <th>Deaths</th>\n",
       "      <th>Recovered</th>\n",
       "      <th>Active</th>\n",
       "      <th>Population</th>\n",
       "    </tr>\n",
       "  </thead>\n",
       "  <tbody>\n",
       "    <tr>\n",
       "      <th>0</th>\n",
       "      <td>Afghanistan</td>\n",
       "      <td>0.0014</td>\n",
       "      <td>0.1973</td>\n",
       "      <td>9.4341</td>\n",
       "      <td>0.0000</td>\n",
       "      <td>24.8097</td>\n",
       "      <td>0.2099</td>\n",
       "      <td>0.0350</td>\n",
       "      <td>5.3495</td>\n",
       "      <td>1.2020</td>\n",
       "      <td>...</td>\n",
       "      <td>0.5345</td>\n",
       "      <td>6.7642</td>\n",
       "      <td>40.5645</td>\n",
       "      <td>4.5</td>\n",
       "      <td>3</td>\n",
       "      <td>0.142134</td>\n",
       "      <td>0.006186</td>\n",
       "      <td>0.123374</td>\n",
       "      <td>0.012574</td>\n",
       "      <td>38928000.0</td>\n",
       "    </tr>\n",
       "    <tr>\n",
       "      <th>1</th>\n",
       "      <td>Albania</td>\n",
       "      <td>1.6719</td>\n",
       "      <td>0.1357</td>\n",
       "      <td>18.7684</td>\n",
       "      <td>0.0000</td>\n",
       "      <td>5.7817</td>\n",
       "      <td>0.5815</td>\n",
       "      <td>0.2126</td>\n",
       "      <td>6.7861</td>\n",
       "      <td>1.8845</td>\n",
       "      <td>...</td>\n",
       "      <td>0.3261</td>\n",
       "      <td>11.7753</td>\n",
       "      <td>31.2304</td>\n",
       "      <td>22.3</td>\n",
       "      <td>1</td>\n",
       "      <td>2.967301</td>\n",
       "      <td>0.050951</td>\n",
       "      <td>1.792636</td>\n",
       "      <td>1.123714</td>\n",
       "      <td>2838000.0</td>\n",
       "    </tr>\n",
       "    <tr>\n",
       "      <th>2</th>\n",
       "      <td>Algeria</td>\n",
       "      <td>0.2711</td>\n",
       "      <td>0.0282</td>\n",
       "      <td>9.6334</td>\n",
       "      <td>0.0000</td>\n",
       "      <td>13.6816</td>\n",
       "      <td>0.5277</td>\n",
       "      <td>0.2416</td>\n",
       "      <td>6.3801</td>\n",
       "      <td>1.1305</td>\n",
       "      <td>...</td>\n",
       "      <td>1.0310</td>\n",
       "      <td>11.6484</td>\n",
       "      <td>40.3651</td>\n",
       "      <td>26.6</td>\n",
       "      <td>1</td>\n",
       "      <td>0.244897</td>\n",
       "      <td>0.006558</td>\n",
       "      <td>0.167572</td>\n",
       "      <td>0.070767</td>\n",
       "      <td>44357000.0</td>\n",
       "    </tr>\n",
       "    <tr>\n",
       "      <th>3</th>\n",
       "      <td>Angola</td>\n",
       "      <td>5.8087</td>\n",
       "      <td>0.0560</td>\n",
       "      <td>4.9278</td>\n",
       "      <td>0.0000</td>\n",
       "      <td>9.1085</td>\n",
       "      <td>0.0587</td>\n",
       "      <td>1.7707</td>\n",
       "      <td>6.0005</td>\n",
       "      <td>2.0571</td>\n",
       "      <td>...</td>\n",
       "      <td>0.6463</td>\n",
       "      <td>2.3041</td>\n",
       "      <td>45.0722</td>\n",
       "      <td>6.8</td>\n",
       "      <td>3</td>\n",
       "      <td>0.061687</td>\n",
       "      <td>0.001461</td>\n",
       "      <td>0.056808</td>\n",
       "      <td>0.003419</td>\n",
       "      <td>32522000.0</td>\n",
       "    </tr>\n",
       "    <tr>\n",
       "      <th>4</th>\n",
       "      <td>Antigua and Barbuda</td>\n",
       "      <td>3.5764</td>\n",
       "      <td>0.0087</td>\n",
       "      <td>16.6613</td>\n",
       "      <td>0.0000</td>\n",
       "      <td>5.9960</td>\n",
       "      <td>0.2274</td>\n",
       "      <td>4.1489</td>\n",
       "      <td>10.7451</td>\n",
       "      <td>5.6888</td>\n",
       "      <td>...</td>\n",
       "      <td>0.8102</td>\n",
       "      <td>5.4495</td>\n",
       "      <td>33.3233</td>\n",
       "      <td>19.1</td>\n",
       "      <td>2</td>\n",
       "      <td>0.293878</td>\n",
       "      <td>0.007143</td>\n",
       "      <td>0.190816</td>\n",
       "      <td>0.095918</td>\n",
       "      <td>98000.0</td>\n",
       "    </tr>\n",
       "    <tr>\n",
       "      <th>...</th>\n",
       "      <td>...</td>\n",
       "      <td>...</td>\n",
       "      <td>...</td>\n",
       "      <td>...</td>\n",
       "      <td>...</td>\n",
       "      <td>...</td>\n",
       "      <td>...</td>\n",
       "      <td>...</td>\n",
       "      <td>...</td>\n",
       "      <td>...</td>\n",
       "      <td>...</td>\n",
       "      <td>...</td>\n",
       "      <td>...</td>\n",
       "      <td>...</td>\n",
       "      <td>...</td>\n",
       "      <td>...</td>\n",
       "      <td>...</td>\n",
       "      <td>...</td>\n",
       "      <td>...</td>\n",
       "      <td>...</td>\n",
       "      <td>...</td>\n",
       "    </tr>\n",
       "    <tr>\n",
       "      <th>165</th>\n",
       "      <td>Venezuela (Bolivarian Republic of)</td>\n",
       "      <td>2.5952</td>\n",
       "      <td>0.0403</td>\n",
       "      <td>14.7565</td>\n",
       "      <td>0.0000</td>\n",
       "      <td>12.9253</td>\n",
       "      <td>0.3389</td>\n",
       "      <td>0.9456</td>\n",
       "      <td>7.6460</td>\n",
       "      <td>3.8328</td>\n",
       "      <td>...</td>\n",
       "      <td>1.3734</td>\n",
       "      <td>4.1474</td>\n",
       "      <td>35.2416</td>\n",
       "      <td>25.2</td>\n",
       "      <td>3</td>\n",
       "      <td>0.452585</td>\n",
       "      <td>0.004287</td>\n",
       "      <td>0.424399</td>\n",
       "      <td>0.023899</td>\n",
       "      <td>28645000.0</td>\n",
       "    </tr>\n",
       "    <tr>\n",
       "      <th>166</th>\n",
       "      <td>Vietnam</td>\n",
       "      <td>1.4591</td>\n",
       "      <td>0.1640</td>\n",
       "      <td>8.5765</td>\n",
       "      <td>0.0042</td>\n",
       "      <td>16.8740</td>\n",
       "      <td>0.3077</td>\n",
       "      <td>2.6392</td>\n",
       "      <td>5.9029</td>\n",
       "      <td>4.4382</td>\n",
       "      <td>...</td>\n",
       "      <td>0.2201</td>\n",
       "      <td>11.9508</td>\n",
       "      <td>41.4232</td>\n",
       "      <td>2.1</td>\n",
       "      <td>2</td>\n",
       "      <td>0.002063</td>\n",
       "      <td>0.000036</td>\n",
       "      <td>0.001526</td>\n",
       "      <td>0.000501</td>\n",
       "      <td>96209000.0</td>\n",
       "    </tr>\n",
       "    <tr>\n",
       "      <th>167</th>\n",
       "      <td>Yemen</td>\n",
       "      <td>0.0364</td>\n",
       "      <td>0.0446</td>\n",
       "      <td>5.7874</td>\n",
       "      <td>0.0000</td>\n",
       "      <td>27.2077</td>\n",
       "      <td>0.2579</td>\n",
       "      <td>0.5240</td>\n",
       "      <td>5.1344</td>\n",
       "      <td>2.7871</td>\n",
       "      <td>...</td>\n",
       "      <td>1.0811</td>\n",
       "      <td>3.2135</td>\n",
       "      <td>44.2126</td>\n",
       "      <td>14.1</td>\n",
       "      <td>3</td>\n",
       "      <td>0.007131</td>\n",
       "      <td>0.002062</td>\n",
       "      <td>0.004788</td>\n",
       "      <td>0.000282</td>\n",
       "      <td>29826000.0</td>\n",
       "    </tr>\n",
       "    <tr>\n",
       "      <th>168</th>\n",
       "      <td>Zambia</td>\n",
       "      <td>5.7360</td>\n",
       "      <td>0.0829</td>\n",
       "      <td>6.0197</td>\n",
       "      <td>0.0000</td>\n",
       "      <td>21.1938</td>\n",
       "      <td>0.3399</td>\n",
       "      <td>1.6924</td>\n",
       "      <td>1.0183</td>\n",
       "      <td>1.8427</td>\n",
       "      <td>...</td>\n",
       "      <td>0.6657</td>\n",
       "      <td>3.4649</td>\n",
       "      <td>43.9789</td>\n",
       "      <td>6.5</td>\n",
       "      <td>3</td>\n",
       "      <td>0.334133</td>\n",
       "      <td>0.004564</td>\n",
       "      <td>0.290524</td>\n",
       "      <td>0.039045</td>\n",
       "      <td>18384000.0</td>\n",
       "    </tr>\n",
       "    <tr>\n",
       "      <th>169</th>\n",
       "      <td>Zimbabwe</td>\n",
       "      <td>4.0552</td>\n",
       "      <td>0.0755</td>\n",
       "      <td>8.1489</td>\n",
       "      <td>0.0000</td>\n",
       "      <td>22.6240</td>\n",
       "      <td>0.2678</td>\n",
       "      <td>0.5518</td>\n",
       "      <td>2.2000</td>\n",
       "      <td>2.6142</td>\n",
       "      <td>...</td>\n",
       "      <td>1.7103</td>\n",
       "      <td>2.3213</td>\n",
       "      <td>41.8526</td>\n",
       "      <td>12.3</td>\n",
       "      <td>3</td>\n",
       "      <td>0.232033</td>\n",
       "      <td>0.008854</td>\n",
       "      <td>0.190964</td>\n",
       "      <td>0.032214</td>\n",
       "      <td>14863000.0</td>\n",
       "    </tr>\n",
       "  </tbody>\n",
       "</table>\n",
       "<p>170 rows × 31 columns</p>\n",
       "</div>"
      ],
      "text/plain": [
       "                                Country  Alcoholic Beverages  Animal fats  \\\n",
       "0                           Afghanistan               0.0014       0.1973   \n",
       "1                               Albania               1.6719       0.1357   \n",
       "2                               Algeria               0.2711       0.0282   \n",
       "3                                Angola               5.8087       0.0560   \n",
       "4                   Antigua and Barbuda               3.5764       0.0087   \n",
       "..                                  ...                  ...          ...   \n",
       "165  Venezuela (Bolivarian Republic of)               2.5952       0.0403   \n",
       "166                             Vietnam               1.4591       0.1640   \n",
       "167                               Yemen               0.0364       0.0446   \n",
       "168                              Zambia               5.7360       0.0829   \n",
       "169                            Zimbabwe               4.0552       0.0755   \n",
       "\n",
       "     Animal Products  Aquatic Products, Other  Cereals - Excluding Beer  \\\n",
       "0             9.4341                   0.0000                   24.8097   \n",
       "1            18.7684                   0.0000                    5.7817   \n",
       "2             9.6334                   0.0000                   13.6816   \n",
       "3             4.9278                   0.0000                    9.1085   \n",
       "4            16.6613                   0.0000                    5.9960   \n",
       "..               ...                      ...                       ...   \n",
       "165          14.7565                   0.0000                   12.9253   \n",
       "166           8.5765                   0.0042                   16.8740   \n",
       "167           5.7874                   0.0000                   27.2077   \n",
       "168           6.0197                   0.0000                   21.1938   \n",
       "169           8.1489                   0.0000                   22.6240   \n",
       "\n",
       "       Eggs  Fish, Seafood  Fruits - Excluding Wine    Meat  ...  \\\n",
       "0    0.2099         0.0350                   5.3495  1.2020  ...   \n",
       "1    0.5815         0.2126                   6.7861  1.8845  ...   \n",
       "2    0.5277         0.2416                   6.3801  1.1305  ...   \n",
       "3    0.0587         1.7707                   6.0005  2.0571  ...   \n",
       "4    0.2274         4.1489                  10.7451  5.6888  ...   \n",
       "..      ...            ...                      ...     ...  ...   \n",
       "165  0.3389         0.9456                   7.6460  3.8328  ...   \n",
       "166  0.3077         2.6392                   5.9029  4.4382  ...   \n",
       "167  0.2579         0.5240                   5.1344  2.7871  ...   \n",
       "168  0.3399         1.6924                   1.0183  1.8427  ...   \n",
       "169  0.2678         0.5518                   2.2000  2.6142  ...   \n",
       "\n",
       "     Vegetable Oils  Vegetables  Vegetal Products  Obesity  Undernourished  \\\n",
       "0            0.5345      6.7642           40.5645      4.5               3   \n",
       "1            0.3261     11.7753           31.2304     22.3               1   \n",
       "2            1.0310     11.6484           40.3651     26.6               1   \n",
       "3            0.6463      2.3041           45.0722      6.8               3   \n",
       "4            0.8102      5.4495           33.3233     19.1               2   \n",
       "..              ...         ...               ...      ...             ...   \n",
       "165          1.3734      4.1474           35.2416     25.2               3   \n",
       "166          0.2201     11.9508           41.4232      2.1               2   \n",
       "167          1.0811      3.2135           44.2126     14.1               3   \n",
       "168          0.6657      3.4649           43.9789      6.5               3   \n",
       "169          1.7103      2.3213           41.8526     12.3               3   \n",
       "\n",
       "     Confirmed    Deaths  Recovered    Active  Population  \n",
       "0     0.142134  0.006186   0.123374  0.012574  38928000.0  \n",
       "1     2.967301  0.050951   1.792636  1.123714   2838000.0  \n",
       "2     0.244897  0.006558   0.167572  0.070767  44357000.0  \n",
       "3     0.061687  0.001461   0.056808  0.003419  32522000.0  \n",
       "4     0.293878  0.007143   0.190816  0.095918     98000.0  \n",
       "..         ...       ...        ...       ...         ...  \n",
       "165   0.452585  0.004287   0.424399  0.023899  28645000.0  \n",
       "166   0.002063  0.000036   0.001526  0.000501  96209000.0  \n",
       "167   0.007131  0.002062   0.004788  0.000282  29826000.0  \n",
       "168   0.334133  0.004564   0.290524  0.039045  18384000.0  \n",
       "169   0.232033  0.008854   0.190964  0.032214  14863000.0  \n",
       "\n",
       "[170 rows x 31 columns]"
      ]
     },
     "execution_count": 15,
     "metadata": {},
     "output_type": "execute_result"
    }
   ],
   "source": [
    "data"
   ]
  },
  {
   "cell_type": "markdown",
   "metadata": {},
   "source": [
    "## Feature and Target Selection"
   ]
  },
  {
   "cell_type": "code",
   "execution_count": 16,
   "metadata": {},
   "outputs": [],
   "source": [
    "data = data.drop('Country', axis=1)\n",
    "\n",
    "data = data.drop(['Confirmed', 'Recovered', 'Active'], axis=1)"
   ]
  },
  {
   "cell_type": "code",
   "execution_count": 17,
   "metadata": {},
   "outputs": [
    {
     "data": {
      "text/plain": [
       "0    85\n",
       "1    85\n",
       "Name: Deaths, dtype: int64"
      ]
     },
     "execution_count": 17,
     "metadata": {},
     "output_type": "execute_result"
    }
   ],
   "source": [
    "pd.qcut(data['Deaths'], q=2, labels=[0, 1]).value_counts()"
   ]
  },
  {
   "cell_type": "code",
   "execution_count": 18,
   "metadata": {},
   "outputs": [],
   "source": [
    "data['Deaths'] = pd.qcut(data['Deaths'], q=2, labels=[0, 1])"
   ]
  },
  {
   "cell_type": "markdown",
   "metadata": {},
   "source": [
    "## Splitting and Scaling"
   ]
  },
  {
   "cell_type": "code",
   "execution_count": 19,
   "metadata": {},
   "outputs": [
    {
     "data": {
      "text/html": [
       "<div>\n",
       "<style scoped>\n",
       "    .dataframe tbody tr th:only-of-type {\n",
       "        vertical-align: middle;\n",
       "    }\n",
       "\n",
       "    .dataframe tbody tr th {\n",
       "        vertical-align: top;\n",
       "    }\n",
       "\n",
       "    .dataframe thead th {\n",
       "        text-align: right;\n",
       "    }\n",
       "</style>\n",
       "<table border=\"1\" class=\"dataframe\">\n",
       "  <thead>\n",
       "    <tr style=\"text-align: right;\">\n",
       "      <th></th>\n",
       "      <th>Alcoholic Beverages</th>\n",
       "      <th>Animal fats</th>\n",
       "      <th>Animal Products</th>\n",
       "      <th>Aquatic Products, Other</th>\n",
       "      <th>Cereals - Excluding Beer</th>\n",
       "      <th>Eggs</th>\n",
       "      <th>Fish, Seafood</th>\n",
       "      <th>Fruits - Excluding Wine</th>\n",
       "      <th>Meat</th>\n",
       "      <th>Milk - Excluding Butter</th>\n",
       "      <th>...</th>\n",
       "      <th>Sugar &amp; Sweeteners</th>\n",
       "      <th>Sugar Crops</th>\n",
       "      <th>Treenuts</th>\n",
       "      <th>Vegetable Oils</th>\n",
       "      <th>Vegetables</th>\n",
       "      <th>Vegetal Products</th>\n",
       "      <th>Obesity</th>\n",
       "      <th>Undernourished</th>\n",
       "      <th>Deaths</th>\n",
       "      <th>Population</th>\n",
       "    </tr>\n",
       "  </thead>\n",
       "  <tbody>\n",
       "    <tr>\n",
       "      <th>0</th>\n",
       "      <td>0.0014</td>\n",
       "      <td>0.1973</td>\n",
       "      <td>9.4341</td>\n",
       "      <td>0.0000</td>\n",
       "      <td>24.8097</td>\n",
       "      <td>0.2099</td>\n",
       "      <td>0.0350</td>\n",
       "      <td>5.3495</td>\n",
       "      <td>1.2020</td>\n",
       "      <td>7.5828</td>\n",
       "      <td>...</td>\n",
       "      <td>1.3489</td>\n",
       "      <td>0.000</td>\n",
       "      <td>0.0770</td>\n",
       "      <td>0.5345</td>\n",
       "      <td>6.7642</td>\n",
       "      <td>40.5645</td>\n",
       "      <td>4.5</td>\n",
       "      <td>3</td>\n",
       "      <td>0</td>\n",
       "      <td>38928000.0</td>\n",
       "    </tr>\n",
       "    <tr>\n",
       "      <th>1</th>\n",
       "      <td>1.6719</td>\n",
       "      <td>0.1357</td>\n",
       "      <td>18.7684</td>\n",
       "      <td>0.0000</td>\n",
       "      <td>5.7817</td>\n",
       "      <td>0.5815</td>\n",
       "      <td>0.2126</td>\n",
       "      <td>6.7861</td>\n",
       "      <td>1.8845</td>\n",
       "      <td>15.7213</td>\n",
       "      <td>...</td>\n",
       "      <td>1.5367</td>\n",
       "      <td>0.000</td>\n",
       "      <td>0.1515</td>\n",
       "      <td>0.3261</td>\n",
       "      <td>11.7753</td>\n",
       "      <td>31.2304</td>\n",
       "      <td>22.3</td>\n",
       "      <td>1</td>\n",
       "      <td>1</td>\n",
       "      <td>2838000.0</td>\n",
       "    </tr>\n",
       "    <tr>\n",
       "      <th>2</th>\n",
       "      <td>0.2711</td>\n",
       "      <td>0.0282</td>\n",
       "      <td>9.6334</td>\n",
       "      <td>0.0000</td>\n",
       "      <td>13.6816</td>\n",
       "      <td>0.5277</td>\n",
       "      <td>0.2416</td>\n",
       "      <td>6.3801</td>\n",
       "      <td>1.1305</td>\n",
       "      <td>7.6189</td>\n",
       "      <td>...</td>\n",
       "      <td>1.8342</td>\n",
       "      <td>0.000</td>\n",
       "      <td>0.1152</td>\n",
       "      <td>1.0310</td>\n",
       "      <td>11.6484</td>\n",
       "      <td>40.3651</td>\n",
       "      <td>26.6</td>\n",
       "      <td>1</td>\n",
       "      <td>0</td>\n",
       "      <td>44357000.0</td>\n",
       "    </tr>\n",
       "    <tr>\n",
       "      <th>3</th>\n",
       "      <td>5.8087</td>\n",
       "      <td>0.0560</td>\n",
       "      <td>4.9278</td>\n",
       "      <td>0.0000</td>\n",
       "      <td>9.1085</td>\n",
       "      <td>0.0587</td>\n",
       "      <td>1.7707</td>\n",
       "      <td>6.0005</td>\n",
       "      <td>2.0571</td>\n",
       "      <td>0.8311</td>\n",
       "      <td>...</td>\n",
       "      <td>1.8495</td>\n",
       "      <td>0.000</td>\n",
       "      <td>0.0061</td>\n",
       "      <td>0.6463</td>\n",
       "      <td>2.3041</td>\n",
       "      <td>45.0722</td>\n",
       "      <td>6.8</td>\n",
       "      <td>3</td>\n",
       "      <td>0</td>\n",
       "      <td>32522000.0</td>\n",
       "    </tr>\n",
       "    <tr>\n",
       "      <th>4</th>\n",
       "      <td>3.5764</td>\n",
       "      <td>0.0087</td>\n",
       "      <td>16.6613</td>\n",
       "      <td>0.0000</td>\n",
       "      <td>5.9960</td>\n",
       "      <td>0.2274</td>\n",
       "      <td>4.1489</td>\n",
       "      <td>10.7451</td>\n",
       "      <td>5.6888</td>\n",
       "      <td>6.3663</td>\n",
       "      <td>...</td>\n",
       "      <td>3.8749</td>\n",
       "      <td>0.000</td>\n",
       "      <td>0.0253</td>\n",
       "      <td>0.8102</td>\n",
       "      <td>5.4495</td>\n",
       "      <td>33.3233</td>\n",
       "      <td>19.1</td>\n",
       "      <td>2</td>\n",
       "      <td>0</td>\n",
       "      <td>98000.0</td>\n",
       "    </tr>\n",
       "    <tr>\n",
       "      <th>...</th>\n",
       "      <td>...</td>\n",
       "      <td>...</td>\n",
       "      <td>...</td>\n",
       "      <td>...</td>\n",
       "      <td>...</td>\n",
       "      <td>...</td>\n",
       "      <td>...</td>\n",
       "      <td>...</td>\n",
       "      <td>...</td>\n",
       "      <td>...</td>\n",
       "      <td>...</td>\n",
       "      <td>...</td>\n",
       "      <td>...</td>\n",
       "      <td>...</td>\n",
       "      <td>...</td>\n",
       "      <td>...</td>\n",
       "      <td>...</td>\n",
       "      <td>...</td>\n",
       "      <td>...</td>\n",
       "      <td>...</td>\n",
       "      <td>...</td>\n",
       "    </tr>\n",
       "    <tr>\n",
       "      <th>165</th>\n",
       "      <td>2.5952</td>\n",
       "      <td>0.0403</td>\n",
       "      <td>14.7565</td>\n",
       "      <td>0.0000</td>\n",
       "      <td>12.9253</td>\n",
       "      <td>0.3389</td>\n",
       "      <td>0.9456</td>\n",
       "      <td>7.6460</td>\n",
       "      <td>3.8328</td>\n",
       "      <td>9.3920</td>\n",
       "      <td>...</td>\n",
       "      <td>3.4106</td>\n",
       "      <td>0.000</td>\n",
       "      <td>0.0009</td>\n",
       "      <td>1.3734</td>\n",
       "      <td>4.1474</td>\n",
       "      <td>35.2416</td>\n",
       "      <td>25.2</td>\n",
       "      <td>3</td>\n",
       "      <td>0</td>\n",
       "      <td>28645000.0</td>\n",
       "    </tr>\n",
       "    <tr>\n",
       "      <th>166</th>\n",
       "      <td>1.4591</td>\n",
       "      <td>0.1640</td>\n",
       "      <td>8.5765</td>\n",
       "      <td>0.0042</td>\n",
       "      <td>16.8740</td>\n",
       "      <td>0.3077</td>\n",
       "      <td>2.6392</td>\n",
       "      <td>5.9029</td>\n",
       "      <td>4.4382</td>\n",
       "      <td>0.6069</td>\n",
       "      <td>...</td>\n",
       "      <td>1.2846</td>\n",
       "      <td>0.815</td>\n",
       "      <td>0.3070</td>\n",
       "      <td>0.2201</td>\n",
       "      <td>11.9508</td>\n",
       "      <td>41.4232</td>\n",
       "      <td>2.1</td>\n",
       "      <td>2</td>\n",
       "      <td>0</td>\n",
       "      <td>96209000.0</td>\n",
       "    </tr>\n",
       "    <tr>\n",
       "      <th>167</th>\n",
       "      <td>0.0364</td>\n",
       "      <td>0.0446</td>\n",
       "      <td>5.7874</td>\n",
       "      <td>0.0000</td>\n",
       "      <td>27.2077</td>\n",
       "      <td>0.2579</td>\n",
       "      <td>0.5240</td>\n",
       "      <td>5.1344</td>\n",
       "      <td>2.7871</td>\n",
       "      <td>1.8911</td>\n",
       "      <td>...</td>\n",
       "      <td>5.0468</td>\n",
       "      <td>0.000</td>\n",
       "      <td>0.0017</td>\n",
       "      <td>1.0811</td>\n",
       "      <td>3.2135</td>\n",
       "      <td>44.2126</td>\n",
       "      <td>14.1</td>\n",
       "      <td>3</td>\n",
       "      <td>0</td>\n",
       "      <td>29826000.0</td>\n",
       "    </tr>\n",
       "    <tr>\n",
       "      <th>168</th>\n",
       "      <td>5.7360</td>\n",
       "      <td>0.0829</td>\n",
       "      <td>6.0197</td>\n",
       "      <td>0.0000</td>\n",
       "      <td>21.1938</td>\n",
       "      <td>0.3399</td>\n",
       "      <td>1.6924</td>\n",
       "      <td>1.0183</td>\n",
       "      <td>1.8427</td>\n",
       "      <td>1.7570</td>\n",
       "      <td>...</td>\n",
       "      <td>1.5632</td>\n",
       "      <td>0.000</td>\n",
       "      <td>0.0014</td>\n",
       "      <td>0.6657</td>\n",
       "      <td>3.4649</td>\n",
       "      <td>43.9789</td>\n",
       "      <td>6.5</td>\n",
       "      <td>3</td>\n",
       "      <td>0</td>\n",
       "      <td>18384000.0</td>\n",
       "    </tr>\n",
       "    <tr>\n",
       "      <th>169</th>\n",
       "      <td>4.0552</td>\n",
       "      <td>0.0755</td>\n",
       "      <td>8.1489</td>\n",
       "      <td>0.0000</td>\n",
       "      <td>22.6240</td>\n",
       "      <td>0.2678</td>\n",
       "      <td>0.5518</td>\n",
       "      <td>2.2000</td>\n",
       "      <td>2.6142</td>\n",
       "      <td>4.4310</td>\n",
       "      <td>...</td>\n",
       "      <td>4.6485</td>\n",
       "      <td>0.000</td>\n",
       "      <td>0.0518</td>\n",
       "      <td>1.7103</td>\n",
       "      <td>2.3213</td>\n",
       "      <td>41.8526</td>\n",
       "      <td>12.3</td>\n",
       "      <td>3</td>\n",
       "      <td>0</td>\n",
       "      <td>14863000.0</td>\n",
       "    </tr>\n",
       "  </tbody>\n",
       "</table>\n",
       "<p>170 rows × 27 columns</p>\n",
       "</div>"
      ],
      "text/plain": [
       "     Alcoholic Beverages  Animal fats  Animal Products  \\\n",
       "0                 0.0014       0.1973           9.4341   \n",
       "1                 1.6719       0.1357          18.7684   \n",
       "2                 0.2711       0.0282           9.6334   \n",
       "3                 5.8087       0.0560           4.9278   \n",
       "4                 3.5764       0.0087          16.6613   \n",
       "..                   ...          ...              ...   \n",
       "165               2.5952       0.0403          14.7565   \n",
       "166               1.4591       0.1640           8.5765   \n",
       "167               0.0364       0.0446           5.7874   \n",
       "168               5.7360       0.0829           6.0197   \n",
       "169               4.0552       0.0755           8.1489   \n",
       "\n",
       "     Aquatic Products, Other  Cereals - Excluding Beer    Eggs  Fish, Seafood  \\\n",
       "0                     0.0000                   24.8097  0.2099         0.0350   \n",
       "1                     0.0000                    5.7817  0.5815         0.2126   \n",
       "2                     0.0000                   13.6816  0.5277         0.2416   \n",
       "3                     0.0000                    9.1085  0.0587         1.7707   \n",
       "4                     0.0000                    5.9960  0.2274         4.1489   \n",
       "..                       ...                       ...     ...            ...   \n",
       "165                   0.0000                   12.9253  0.3389         0.9456   \n",
       "166                   0.0042                   16.8740  0.3077         2.6392   \n",
       "167                   0.0000                   27.2077  0.2579         0.5240   \n",
       "168                   0.0000                   21.1938  0.3399         1.6924   \n",
       "169                   0.0000                   22.6240  0.2678         0.5518   \n",
       "\n",
       "     Fruits - Excluding Wine    Meat  Milk - Excluding Butter  ...  \\\n",
       "0                     5.3495  1.2020                   7.5828  ...   \n",
       "1                     6.7861  1.8845                  15.7213  ...   \n",
       "2                     6.3801  1.1305                   7.6189  ...   \n",
       "3                     6.0005  2.0571                   0.8311  ...   \n",
       "4                    10.7451  5.6888                   6.3663  ...   \n",
       "..                       ...     ...                      ...  ...   \n",
       "165                   7.6460  3.8328                   9.3920  ...   \n",
       "166                   5.9029  4.4382                   0.6069  ...   \n",
       "167                   5.1344  2.7871                   1.8911  ...   \n",
       "168                   1.0183  1.8427                   1.7570  ...   \n",
       "169                   2.2000  2.6142                   4.4310  ...   \n",
       "\n",
       "     Sugar & Sweeteners  Sugar Crops  Treenuts  Vegetable Oils  Vegetables  \\\n",
       "0                1.3489        0.000    0.0770          0.5345      6.7642   \n",
       "1                1.5367        0.000    0.1515          0.3261     11.7753   \n",
       "2                1.8342        0.000    0.1152          1.0310     11.6484   \n",
       "3                1.8495        0.000    0.0061          0.6463      2.3041   \n",
       "4                3.8749        0.000    0.0253          0.8102      5.4495   \n",
       "..                  ...          ...       ...             ...         ...   \n",
       "165              3.4106        0.000    0.0009          1.3734      4.1474   \n",
       "166              1.2846        0.815    0.3070          0.2201     11.9508   \n",
       "167              5.0468        0.000    0.0017          1.0811      3.2135   \n",
       "168              1.5632        0.000    0.0014          0.6657      3.4649   \n",
       "169              4.6485        0.000    0.0518          1.7103      2.3213   \n",
       "\n",
       "     Vegetal Products  Obesity  Undernourished  Deaths  Population  \n",
       "0             40.5645      4.5               3       0  38928000.0  \n",
       "1             31.2304     22.3               1       1   2838000.0  \n",
       "2             40.3651     26.6               1       0  44357000.0  \n",
       "3             45.0722      6.8               3       0  32522000.0  \n",
       "4             33.3233     19.1               2       0     98000.0  \n",
       "..                ...      ...             ...     ...         ...  \n",
       "165           35.2416     25.2               3       0  28645000.0  \n",
       "166           41.4232      2.1               2       0  96209000.0  \n",
       "167           44.2126     14.1               3       0  29826000.0  \n",
       "168           43.9789      6.5               3       0  18384000.0  \n",
       "169           41.8526     12.3               3       0  14863000.0  \n",
       "\n",
       "[170 rows x 27 columns]"
      ]
     },
     "execution_count": 19,
     "metadata": {},
     "output_type": "execute_result"
    }
   ],
   "source": [
    "data"
   ]
  },
  {
   "cell_type": "code",
   "execution_count": 20,
   "metadata": {},
   "outputs": [],
   "source": [
    "y = data['Deaths']\n",
    "X = data.drop('Deaths', axis=1)"
   ]
  },
  {
   "cell_type": "code",
   "execution_count": 22,
   "metadata": {},
   "outputs": [],
   "source": [
    "scaler = StandardScaler()\n",
    "\n",
    "X = scaler.fit_transform(X)"
   ]
  },
  {
   "cell_type": "code",
   "execution_count": null,
   "metadata": {},
   "outputs": [],
   "source": [
    "X_train, X_test, y_train, y_test = train_test_split(X, y, train_size=0.8)"
   ]
  },
  {
   "cell_type": "markdown",
   "metadata": {},
   "source": [
    "# Training"
   ]
  },
  {
   "cell_type": "code",
   "execution_count": 25,
   "metadata": {},
   "outputs": [
    {
     "data": {
      "text/plain": [
       "(170, 26)"
      ]
     },
     "execution_count": 25,
     "metadata": {},
     "output_type": "execute_result"
    }
   ],
   "source": [
    "X.shape"
   ]
  },
  {
   "cell_type": "code",
   "execution_count": 31,
   "metadata": {},
   "outputs": [],
   "source": [
    "inputs = tf.keras.Input(shape=(26,))\n",
    "x = tf.keras.layers.Dense(64, activation='relu')(inputs)\n",
    "x = tf.keras.layers.Dense(64, activation='relu')(x)\n",
    "outputs = tf.keras.layers.Dense(1, activation='sigmoid')(x)\n",
    "\n",
    "model = tf.keras.Model(inputs=inputs, outputs=outputs)\n",
    "\n",
    "\n",
    "model.compile(\n",
    "    optimizer='adam',\n",
    "    loss='binary_crossentropy',\n",
    "    metrics=[\n",
    "        'accuracy',\n",
    "        tf.keras.metrics.AUC(name='auc')\n",
    "    ]\n",
    ")\n",
    "\n",
    "\n",
    "batch_size = 64\n",
    "epochs = 14\n",
    "\n",
    "history = model.fit(\n",
    "    X_train,\n",
    "    y_train,\n",
    "    validation_split=0.2,\n",
    "    batch_size=batch_size,\n",
    "    epochs=epochs,\n",
    "    verbose=0\n",
    ")"
   ]
  },
  {
   "cell_type": "markdown",
   "metadata": {},
   "source": [
    "# Results"
   ]
  },
  {
   "cell_type": "code",
   "execution_count": 59,
   "metadata": {},
   "outputs": [
    {
     "data": {
      "application/vnd.plotly.v1+json": {
       "config": {
        "plotlyServerURL": "https://plot.ly"
       },
       "data": [
        {
         "hovertemplate": "variable=loss<br>Epoch=%{x}<br>Loss=%{y}<extra></extra>",
         "legendgroup": "loss",
         "line": {
          "color": "#636efa",
          "dash": "solid"
         },
         "mode": "lines",
         "name": "loss",
         "orientation": "v",
         "showlegend": true,
         "type": "scatter",
         "x": [
          0,
          1,
          2,
          3,
          4,
          5,
          6,
          7,
          8,
          9,
          10,
          11,
          12,
          13
         ],
         "xaxis": "x",
         "y": [
          0.7232025861740112,
          0.6826523542404175,
          0.6453425288200378,
          0.6098183393478394,
          0.5796202421188354,
          0.5519999265670776,
          0.5263523459434509,
          0.5038356184959412,
          0.4843827784061432,
          0.4664131700992584,
          0.4486629068851471,
          0.4344530701637268,
          0.4193498194217682,
          0.4090927541255951
         ],
         "yaxis": "y"
        },
        {
         "hovertemplate": "variable=val_loss<br>Epoch=%{x}<br>Loss=%{y}<extra></extra>",
         "legendgroup": "val_loss",
         "line": {
          "color": "#EF553B",
          "dash": "solid"
         },
         "mode": "lines",
         "name": "val_loss",
         "orientation": "v",
         "showlegend": true,
         "type": "scatter",
         "x": [
          0,
          1,
          2,
          3,
          4,
          5,
          6,
          7,
          8,
          9,
          10,
          11,
          12,
          13
         ],
         "xaxis": "x",
         "y": [
          0.6814178228378296,
          0.6332959532737732,
          0.5908740162849426,
          0.5545028448104858,
          0.5225841999053955,
          0.49449655413627625,
          0.4696047306060791,
          0.44818854331970215,
          0.42969074845314026,
          0.4144347012042999,
          0.40197229385375977,
          0.39162126183509827,
          0.38300490379333496,
          0.3756578862667084
         ],
         "yaxis": "y"
        }
       ],
       "layout": {
        "legend": {
         "title": {
          "text": "variable"
         },
         "tracegroupgap": 0
        },
        "template": {
         "data": {
          "bar": [
           {
            "error_x": {
             "color": "#2a3f5f"
            },
            "error_y": {
             "color": "#2a3f5f"
            },
            "marker": {
             "line": {
              "color": "#E5ECF6",
              "width": 0.5
             },
             "pattern": {
              "fillmode": "overlay",
              "size": 10,
              "solidity": 0.2
             }
            },
            "type": "bar"
           }
          ],
          "barpolar": [
           {
            "marker": {
             "line": {
              "color": "#E5ECF6",
              "width": 0.5
             },
             "pattern": {
              "fillmode": "overlay",
              "size": 10,
              "solidity": 0.2
             }
            },
            "type": "barpolar"
           }
          ],
          "carpet": [
           {
            "aaxis": {
             "endlinecolor": "#2a3f5f",
             "gridcolor": "white",
             "linecolor": "white",
             "minorgridcolor": "white",
             "startlinecolor": "#2a3f5f"
            },
            "baxis": {
             "endlinecolor": "#2a3f5f",
             "gridcolor": "white",
             "linecolor": "white",
             "minorgridcolor": "white",
             "startlinecolor": "#2a3f5f"
            },
            "type": "carpet"
           }
          ],
          "choropleth": [
           {
            "colorbar": {
             "outlinewidth": 0,
             "ticks": ""
            },
            "type": "choropleth"
           }
          ],
          "contour": [
           {
            "colorbar": {
             "outlinewidth": 0,
             "ticks": ""
            },
            "colorscale": [
             [
              0,
              "#0d0887"
             ],
             [
              0.1111111111111111,
              "#46039f"
             ],
             [
              0.2222222222222222,
              "#7201a8"
             ],
             [
              0.3333333333333333,
              "#9c179e"
             ],
             [
              0.4444444444444444,
              "#bd3786"
             ],
             [
              0.5555555555555556,
              "#d8576b"
             ],
             [
              0.6666666666666666,
              "#ed7953"
             ],
             [
              0.7777777777777778,
              "#fb9f3a"
             ],
             [
              0.8888888888888888,
              "#fdca26"
             ],
             [
              1,
              "#f0f921"
             ]
            ],
            "type": "contour"
           }
          ],
          "contourcarpet": [
           {
            "colorbar": {
             "outlinewidth": 0,
             "ticks": ""
            },
            "type": "contourcarpet"
           }
          ],
          "heatmap": [
           {
            "colorbar": {
             "outlinewidth": 0,
             "ticks": ""
            },
            "colorscale": [
             [
              0,
              "#0d0887"
             ],
             [
              0.1111111111111111,
              "#46039f"
             ],
             [
              0.2222222222222222,
              "#7201a8"
             ],
             [
              0.3333333333333333,
              "#9c179e"
             ],
             [
              0.4444444444444444,
              "#bd3786"
             ],
             [
              0.5555555555555556,
              "#d8576b"
             ],
             [
              0.6666666666666666,
              "#ed7953"
             ],
             [
              0.7777777777777778,
              "#fb9f3a"
             ],
             [
              0.8888888888888888,
              "#fdca26"
             ],
             [
              1,
              "#f0f921"
             ]
            ],
            "type": "heatmap"
           }
          ],
          "heatmapgl": [
           {
            "colorbar": {
             "outlinewidth": 0,
             "ticks": ""
            },
            "colorscale": [
             [
              0,
              "#0d0887"
             ],
             [
              0.1111111111111111,
              "#46039f"
             ],
             [
              0.2222222222222222,
              "#7201a8"
             ],
             [
              0.3333333333333333,
              "#9c179e"
             ],
             [
              0.4444444444444444,
              "#bd3786"
             ],
             [
              0.5555555555555556,
              "#d8576b"
             ],
             [
              0.6666666666666666,
              "#ed7953"
             ],
             [
              0.7777777777777778,
              "#fb9f3a"
             ],
             [
              0.8888888888888888,
              "#fdca26"
             ],
             [
              1,
              "#f0f921"
             ]
            ],
            "type": "heatmapgl"
           }
          ],
          "histogram": [
           {
            "marker": {
             "pattern": {
              "fillmode": "overlay",
              "size": 10,
              "solidity": 0.2
             }
            },
            "type": "histogram"
           }
          ],
          "histogram2d": [
           {
            "colorbar": {
             "outlinewidth": 0,
             "ticks": ""
            },
            "colorscale": [
             [
              0,
              "#0d0887"
             ],
             [
              0.1111111111111111,
              "#46039f"
             ],
             [
              0.2222222222222222,
              "#7201a8"
             ],
             [
              0.3333333333333333,
              "#9c179e"
             ],
             [
              0.4444444444444444,
              "#bd3786"
             ],
             [
              0.5555555555555556,
              "#d8576b"
             ],
             [
              0.6666666666666666,
              "#ed7953"
             ],
             [
              0.7777777777777778,
              "#fb9f3a"
             ],
             [
              0.8888888888888888,
              "#fdca26"
             ],
             [
              1,
              "#f0f921"
             ]
            ],
            "type": "histogram2d"
           }
          ],
          "histogram2dcontour": [
           {
            "colorbar": {
             "outlinewidth": 0,
             "ticks": ""
            },
            "colorscale": [
             [
              0,
              "#0d0887"
             ],
             [
              0.1111111111111111,
              "#46039f"
             ],
             [
              0.2222222222222222,
              "#7201a8"
             ],
             [
              0.3333333333333333,
              "#9c179e"
             ],
             [
              0.4444444444444444,
              "#bd3786"
             ],
             [
              0.5555555555555556,
              "#d8576b"
             ],
             [
              0.6666666666666666,
              "#ed7953"
             ],
             [
              0.7777777777777778,
              "#fb9f3a"
             ],
             [
              0.8888888888888888,
              "#fdca26"
             ],
             [
              1,
              "#f0f921"
             ]
            ],
            "type": "histogram2dcontour"
           }
          ],
          "mesh3d": [
           {
            "colorbar": {
             "outlinewidth": 0,
             "ticks": ""
            },
            "type": "mesh3d"
           }
          ],
          "parcoords": [
           {
            "line": {
             "colorbar": {
              "outlinewidth": 0,
              "ticks": ""
             }
            },
            "type": "parcoords"
           }
          ],
          "pie": [
           {
            "automargin": true,
            "type": "pie"
           }
          ],
          "scatter": [
           {
            "marker": {
             "colorbar": {
              "outlinewidth": 0,
              "ticks": ""
             }
            },
            "type": "scatter"
           }
          ],
          "scatter3d": [
           {
            "line": {
             "colorbar": {
              "outlinewidth": 0,
              "ticks": ""
             }
            },
            "marker": {
             "colorbar": {
              "outlinewidth": 0,
              "ticks": ""
             }
            },
            "type": "scatter3d"
           }
          ],
          "scattercarpet": [
           {
            "marker": {
             "colorbar": {
              "outlinewidth": 0,
              "ticks": ""
             }
            },
            "type": "scattercarpet"
           }
          ],
          "scattergeo": [
           {
            "marker": {
             "colorbar": {
              "outlinewidth": 0,
              "ticks": ""
             }
            },
            "type": "scattergeo"
           }
          ],
          "scattergl": [
           {
            "marker": {
             "colorbar": {
              "outlinewidth": 0,
              "ticks": ""
             }
            },
            "type": "scattergl"
           }
          ],
          "scattermapbox": [
           {
            "marker": {
             "colorbar": {
              "outlinewidth": 0,
              "ticks": ""
             }
            },
            "type": "scattermapbox"
           }
          ],
          "scatterpolar": [
           {
            "marker": {
             "colorbar": {
              "outlinewidth": 0,
              "ticks": ""
             }
            },
            "type": "scatterpolar"
           }
          ],
          "scatterpolargl": [
           {
            "marker": {
             "colorbar": {
              "outlinewidth": 0,
              "ticks": ""
             }
            },
            "type": "scatterpolargl"
           }
          ],
          "scatterternary": [
           {
            "marker": {
             "colorbar": {
              "outlinewidth": 0,
              "ticks": ""
             }
            },
            "type": "scatterternary"
           }
          ],
          "surface": [
           {
            "colorbar": {
             "outlinewidth": 0,
             "ticks": ""
            },
            "colorscale": [
             [
              0,
              "#0d0887"
             ],
             [
              0.1111111111111111,
              "#46039f"
             ],
             [
              0.2222222222222222,
              "#7201a8"
             ],
             [
              0.3333333333333333,
              "#9c179e"
             ],
             [
              0.4444444444444444,
              "#bd3786"
             ],
             [
              0.5555555555555556,
              "#d8576b"
             ],
             [
              0.6666666666666666,
              "#ed7953"
             ],
             [
              0.7777777777777778,
              "#fb9f3a"
             ],
             [
              0.8888888888888888,
              "#fdca26"
             ],
             [
              1,
              "#f0f921"
             ]
            ],
            "type": "surface"
           }
          ],
          "table": [
           {
            "cells": {
             "fill": {
              "color": "#EBF0F8"
             },
             "line": {
              "color": "white"
             }
            },
            "header": {
             "fill": {
              "color": "#C8D4E3"
             },
             "line": {
              "color": "white"
             }
            },
            "type": "table"
           }
          ]
         },
         "layout": {
          "annotationdefaults": {
           "arrowcolor": "#2a3f5f",
           "arrowhead": 0,
           "arrowwidth": 1
          },
          "autotypenumbers": "strict",
          "coloraxis": {
           "colorbar": {
            "outlinewidth": 0,
            "ticks": ""
           }
          },
          "colorscale": {
           "diverging": [
            [
             0,
             "#8e0152"
            ],
            [
             0.1,
             "#c51b7d"
            ],
            [
             0.2,
             "#de77ae"
            ],
            [
             0.3,
             "#f1b6da"
            ],
            [
             0.4,
             "#fde0ef"
            ],
            [
             0.5,
             "#f7f7f7"
            ],
            [
             0.6,
             "#e6f5d0"
            ],
            [
             0.7,
             "#b8e186"
            ],
            [
             0.8,
             "#7fbc41"
            ],
            [
             0.9,
             "#4d9221"
            ],
            [
             1,
             "#276419"
            ]
           ],
           "sequential": [
            [
             0,
             "#0d0887"
            ],
            [
             0.1111111111111111,
             "#46039f"
            ],
            [
             0.2222222222222222,
             "#7201a8"
            ],
            [
             0.3333333333333333,
             "#9c179e"
            ],
            [
             0.4444444444444444,
             "#bd3786"
            ],
            [
             0.5555555555555556,
             "#d8576b"
            ],
            [
             0.6666666666666666,
             "#ed7953"
            ],
            [
             0.7777777777777778,
             "#fb9f3a"
            ],
            [
             0.8888888888888888,
             "#fdca26"
            ],
            [
             1,
             "#f0f921"
            ]
           ],
           "sequentialminus": [
            [
             0,
             "#0d0887"
            ],
            [
             0.1111111111111111,
             "#46039f"
            ],
            [
             0.2222222222222222,
             "#7201a8"
            ],
            [
             0.3333333333333333,
             "#9c179e"
            ],
            [
             0.4444444444444444,
             "#bd3786"
            ],
            [
             0.5555555555555556,
             "#d8576b"
            ],
            [
             0.6666666666666666,
             "#ed7953"
            ],
            [
             0.7777777777777778,
             "#fb9f3a"
            ],
            [
             0.8888888888888888,
             "#fdca26"
            ],
            [
             1,
             "#f0f921"
            ]
           ]
          },
          "colorway": [
           "#636efa",
           "#EF553B",
           "#00cc96",
           "#ab63fa",
           "#FFA15A",
           "#19d3f3",
           "#FF6692",
           "#B6E880",
           "#FF97FF",
           "#FECB52"
          ],
          "font": {
           "color": "#2a3f5f"
          },
          "geo": {
           "bgcolor": "white",
           "lakecolor": "white",
           "landcolor": "#E5ECF6",
           "showlakes": true,
           "showland": true,
           "subunitcolor": "white"
          },
          "hoverlabel": {
           "align": "left"
          },
          "hovermode": "closest",
          "mapbox": {
           "style": "light"
          },
          "paper_bgcolor": "white",
          "plot_bgcolor": "#E5ECF6",
          "polar": {
           "angularaxis": {
            "gridcolor": "white",
            "linecolor": "white",
            "ticks": ""
           },
           "bgcolor": "#E5ECF6",
           "radialaxis": {
            "gridcolor": "white",
            "linecolor": "white",
            "ticks": ""
           }
          },
          "scene": {
           "xaxis": {
            "backgroundcolor": "#E5ECF6",
            "gridcolor": "white",
            "gridwidth": 2,
            "linecolor": "white",
            "showbackground": true,
            "ticks": "",
            "zerolinecolor": "white"
           },
           "yaxis": {
            "backgroundcolor": "#E5ECF6",
            "gridcolor": "white",
            "gridwidth": 2,
            "linecolor": "white",
            "showbackground": true,
            "ticks": "",
            "zerolinecolor": "white"
           },
           "zaxis": {
            "backgroundcolor": "#E5ECF6",
            "gridcolor": "white",
            "gridwidth": 2,
            "linecolor": "white",
            "showbackground": true,
            "ticks": "",
            "zerolinecolor": "white"
           }
          },
          "shapedefaults": {
           "line": {
            "color": "#2a3f5f"
           }
          },
          "ternary": {
           "aaxis": {
            "gridcolor": "white",
            "linecolor": "white",
            "ticks": ""
           },
           "baxis": {
            "gridcolor": "white",
            "linecolor": "white",
            "ticks": ""
           },
           "bgcolor": "#E5ECF6",
           "caxis": {
            "gridcolor": "white",
            "linecolor": "white",
            "ticks": ""
           }
          },
          "title": {
           "x": 0.05
          },
          "xaxis": {
           "automargin": true,
           "gridcolor": "white",
           "linecolor": "white",
           "ticks": "",
           "title": {
            "standoff": 15
           },
           "zerolinecolor": "white",
           "zerolinewidth": 2
          },
          "yaxis": {
           "automargin": true,
           "gridcolor": "white",
           "linecolor": "white",
           "ticks": "",
           "title": {
            "standoff": 15
           },
           "zerolinecolor": "white",
           "zerolinewidth": 2
          }
         }
        },
        "title": {
         "text": "Training and Validation Loss"
        },
        "xaxis": {
         "anchor": "y",
         "domain": [
          0,
          1
         ],
         "title": {
          "text": "Epoch"
         }
        },
        "yaxis": {
         "anchor": "x",
         "domain": [
          0,
          1
         ],
         "title": {
          "text": "Loss"
         }
        }
       }
      },
      "text/html": [
       "<div>                            <div id=\"b2a7be01-8161-41fc-8b29-82807b941c7d\" class=\"plotly-graph-div\" style=\"height:525px; width:100%;\"></div>            <script type=\"text/javascript\">                require([\"plotly\"], function(Plotly) {                    window.PLOTLYENV=window.PLOTLYENV || {};                                    if (document.getElementById(\"b2a7be01-8161-41fc-8b29-82807b941c7d\")) {                    Plotly.newPlot(                        \"b2a7be01-8161-41fc-8b29-82807b941c7d\",                        [{\"hovertemplate\":\"variable=loss<br>Epoch=%{x}<br>Loss=%{y}<extra></extra>\",\"legendgroup\":\"loss\",\"line\":{\"color\":\"#636efa\",\"dash\":\"solid\"},\"mode\":\"lines\",\"name\":\"loss\",\"orientation\":\"v\",\"showlegend\":true,\"type\":\"scatter\",\"x\":[0,1,2,3,4,5,6,7,8,9,10,11,12,13],\"xaxis\":\"x\",\"y\":[0.7232025861740112,0.6826523542404175,0.6453425288200378,0.6098183393478394,0.5796202421188354,0.5519999265670776,0.5263523459434509,0.5038356184959412,0.4843827784061432,0.4664131700992584,0.4486629068851471,0.4344530701637268,0.4193498194217682,0.4090927541255951],\"yaxis\":\"y\"},{\"hovertemplate\":\"variable=val_loss<br>Epoch=%{x}<br>Loss=%{y}<extra></extra>\",\"legendgroup\":\"val_loss\",\"line\":{\"color\":\"#EF553B\",\"dash\":\"solid\"},\"mode\":\"lines\",\"name\":\"val_loss\",\"orientation\":\"v\",\"showlegend\":true,\"type\":\"scatter\",\"x\":[0,1,2,3,4,5,6,7,8,9,10,11,12,13],\"xaxis\":\"x\",\"y\":[0.6814178228378296,0.6332959532737732,0.5908740162849426,0.5545028448104858,0.5225841999053955,0.49449655413627625,0.4696047306060791,0.44818854331970215,0.42969074845314026,0.4144347012042999,0.40197229385375977,0.39162126183509827,0.38300490379333496,0.3756578862667084],\"yaxis\":\"y\"}],                        {\"legend\":{\"title\":{\"text\":\"variable\"},\"tracegroupgap\":0},\"template\":{\"data\":{\"bar\":[{\"error_x\":{\"color\":\"#2a3f5f\"},\"error_y\":{\"color\":\"#2a3f5f\"},\"marker\":{\"line\":{\"color\":\"#E5ECF6\",\"width\":0.5},\"pattern\":{\"fillmode\":\"overlay\",\"size\":10,\"solidity\":0.2}},\"type\":\"bar\"}],\"barpolar\":[{\"marker\":{\"line\":{\"color\":\"#E5ECF6\",\"width\":0.5},\"pattern\":{\"fillmode\":\"overlay\",\"size\":10,\"solidity\":0.2}},\"type\":\"barpolar\"}],\"carpet\":[{\"aaxis\":{\"endlinecolor\":\"#2a3f5f\",\"gridcolor\":\"white\",\"linecolor\":\"white\",\"minorgridcolor\":\"white\",\"startlinecolor\":\"#2a3f5f\"},\"baxis\":{\"endlinecolor\":\"#2a3f5f\",\"gridcolor\":\"white\",\"linecolor\":\"white\",\"minorgridcolor\":\"white\",\"startlinecolor\":\"#2a3f5f\"},\"type\":\"carpet\"}],\"choropleth\":[{\"colorbar\":{\"outlinewidth\":0,\"ticks\":\"\"},\"type\":\"choropleth\"}],\"contour\":[{\"colorbar\":{\"outlinewidth\":0,\"ticks\":\"\"},\"colorscale\":[[0.0,\"#0d0887\"],[0.1111111111111111,\"#46039f\"],[0.2222222222222222,\"#7201a8\"],[0.3333333333333333,\"#9c179e\"],[0.4444444444444444,\"#bd3786\"],[0.5555555555555556,\"#d8576b\"],[0.6666666666666666,\"#ed7953\"],[0.7777777777777778,\"#fb9f3a\"],[0.8888888888888888,\"#fdca26\"],[1.0,\"#f0f921\"]],\"type\":\"contour\"}],\"contourcarpet\":[{\"colorbar\":{\"outlinewidth\":0,\"ticks\":\"\"},\"type\":\"contourcarpet\"}],\"heatmap\":[{\"colorbar\":{\"outlinewidth\":0,\"ticks\":\"\"},\"colorscale\":[[0.0,\"#0d0887\"],[0.1111111111111111,\"#46039f\"],[0.2222222222222222,\"#7201a8\"],[0.3333333333333333,\"#9c179e\"],[0.4444444444444444,\"#bd3786\"],[0.5555555555555556,\"#d8576b\"],[0.6666666666666666,\"#ed7953\"],[0.7777777777777778,\"#fb9f3a\"],[0.8888888888888888,\"#fdca26\"],[1.0,\"#f0f921\"]],\"type\":\"heatmap\"}],\"heatmapgl\":[{\"colorbar\":{\"outlinewidth\":0,\"ticks\":\"\"},\"colorscale\":[[0.0,\"#0d0887\"],[0.1111111111111111,\"#46039f\"],[0.2222222222222222,\"#7201a8\"],[0.3333333333333333,\"#9c179e\"],[0.4444444444444444,\"#bd3786\"],[0.5555555555555556,\"#d8576b\"],[0.6666666666666666,\"#ed7953\"],[0.7777777777777778,\"#fb9f3a\"],[0.8888888888888888,\"#fdca26\"],[1.0,\"#f0f921\"]],\"type\":\"heatmapgl\"}],\"histogram\":[{\"marker\":{\"pattern\":{\"fillmode\":\"overlay\",\"size\":10,\"solidity\":0.2}},\"type\":\"histogram\"}],\"histogram2d\":[{\"colorbar\":{\"outlinewidth\":0,\"ticks\":\"\"},\"colorscale\":[[0.0,\"#0d0887\"],[0.1111111111111111,\"#46039f\"],[0.2222222222222222,\"#7201a8\"],[0.3333333333333333,\"#9c179e\"],[0.4444444444444444,\"#bd3786\"],[0.5555555555555556,\"#d8576b\"],[0.6666666666666666,\"#ed7953\"],[0.7777777777777778,\"#fb9f3a\"],[0.8888888888888888,\"#fdca26\"],[1.0,\"#f0f921\"]],\"type\":\"histogram2d\"}],\"histogram2dcontour\":[{\"colorbar\":{\"outlinewidth\":0,\"ticks\":\"\"},\"colorscale\":[[0.0,\"#0d0887\"],[0.1111111111111111,\"#46039f\"],[0.2222222222222222,\"#7201a8\"],[0.3333333333333333,\"#9c179e\"],[0.4444444444444444,\"#bd3786\"],[0.5555555555555556,\"#d8576b\"],[0.6666666666666666,\"#ed7953\"],[0.7777777777777778,\"#fb9f3a\"],[0.8888888888888888,\"#fdca26\"],[1.0,\"#f0f921\"]],\"type\":\"histogram2dcontour\"}],\"mesh3d\":[{\"colorbar\":{\"outlinewidth\":0,\"ticks\":\"\"},\"type\":\"mesh3d\"}],\"parcoords\":[{\"line\":{\"colorbar\":{\"outlinewidth\":0,\"ticks\":\"\"}},\"type\":\"parcoords\"}],\"pie\":[{\"automargin\":true,\"type\":\"pie\"}],\"scatter\":[{\"marker\":{\"colorbar\":{\"outlinewidth\":0,\"ticks\":\"\"}},\"type\":\"scatter\"}],\"scatter3d\":[{\"line\":{\"colorbar\":{\"outlinewidth\":0,\"ticks\":\"\"}},\"marker\":{\"colorbar\":{\"outlinewidth\":0,\"ticks\":\"\"}},\"type\":\"scatter3d\"}],\"scattercarpet\":[{\"marker\":{\"colorbar\":{\"outlinewidth\":0,\"ticks\":\"\"}},\"type\":\"scattercarpet\"}],\"scattergeo\":[{\"marker\":{\"colorbar\":{\"outlinewidth\":0,\"ticks\":\"\"}},\"type\":\"scattergeo\"}],\"scattergl\":[{\"marker\":{\"colorbar\":{\"outlinewidth\":0,\"ticks\":\"\"}},\"type\":\"scattergl\"}],\"scattermapbox\":[{\"marker\":{\"colorbar\":{\"outlinewidth\":0,\"ticks\":\"\"}},\"type\":\"scattermapbox\"}],\"scatterpolar\":[{\"marker\":{\"colorbar\":{\"outlinewidth\":0,\"ticks\":\"\"}},\"type\":\"scatterpolar\"}],\"scatterpolargl\":[{\"marker\":{\"colorbar\":{\"outlinewidth\":0,\"ticks\":\"\"}},\"type\":\"scatterpolargl\"}],\"scatterternary\":[{\"marker\":{\"colorbar\":{\"outlinewidth\":0,\"ticks\":\"\"}},\"type\":\"scatterternary\"}],\"surface\":[{\"colorbar\":{\"outlinewidth\":0,\"ticks\":\"\"},\"colorscale\":[[0.0,\"#0d0887\"],[0.1111111111111111,\"#46039f\"],[0.2222222222222222,\"#7201a8\"],[0.3333333333333333,\"#9c179e\"],[0.4444444444444444,\"#bd3786\"],[0.5555555555555556,\"#d8576b\"],[0.6666666666666666,\"#ed7953\"],[0.7777777777777778,\"#fb9f3a\"],[0.8888888888888888,\"#fdca26\"],[1.0,\"#f0f921\"]],\"type\":\"surface\"}],\"table\":[{\"cells\":{\"fill\":{\"color\":\"#EBF0F8\"},\"line\":{\"color\":\"white\"}},\"header\":{\"fill\":{\"color\":\"#C8D4E3\"},\"line\":{\"color\":\"white\"}},\"type\":\"table\"}]},\"layout\":{\"annotationdefaults\":{\"arrowcolor\":\"#2a3f5f\",\"arrowhead\":0,\"arrowwidth\":1},\"autotypenumbers\":\"strict\",\"coloraxis\":{\"colorbar\":{\"outlinewidth\":0,\"ticks\":\"\"}},\"colorscale\":{\"diverging\":[[0,\"#8e0152\"],[0.1,\"#c51b7d\"],[0.2,\"#de77ae\"],[0.3,\"#f1b6da\"],[0.4,\"#fde0ef\"],[0.5,\"#f7f7f7\"],[0.6,\"#e6f5d0\"],[0.7,\"#b8e186\"],[0.8,\"#7fbc41\"],[0.9,\"#4d9221\"],[1,\"#276419\"]],\"sequential\":[[0.0,\"#0d0887\"],[0.1111111111111111,\"#46039f\"],[0.2222222222222222,\"#7201a8\"],[0.3333333333333333,\"#9c179e\"],[0.4444444444444444,\"#bd3786\"],[0.5555555555555556,\"#d8576b\"],[0.6666666666666666,\"#ed7953\"],[0.7777777777777778,\"#fb9f3a\"],[0.8888888888888888,\"#fdca26\"],[1.0,\"#f0f921\"]],\"sequentialminus\":[[0.0,\"#0d0887\"],[0.1111111111111111,\"#46039f\"],[0.2222222222222222,\"#7201a8\"],[0.3333333333333333,\"#9c179e\"],[0.4444444444444444,\"#bd3786\"],[0.5555555555555556,\"#d8576b\"],[0.6666666666666666,\"#ed7953\"],[0.7777777777777778,\"#fb9f3a\"],[0.8888888888888888,\"#fdca26\"],[1.0,\"#f0f921\"]]},\"colorway\":[\"#636efa\",\"#EF553B\",\"#00cc96\",\"#ab63fa\",\"#FFA15A\",\"#19d3f3\",\"#FF6692\",\"#B6E880\",\"#FF97FF\",\"#FECB52\"],\"font\":{\"color\":\"#2a3f5f\"},\"geo\":{\"bgcolor\":\"white\",\"lakecolor\":\"white\",\"landcolor\":\"#E5ECF6\",\"showlakes\":true,\"showland\":true,\"subunitcolor\":\"white\"},\"hoverlabel\":{\"align\":\"left\"},\"hovermode\":\"closest\",\"mapbox\":{\"style\":\"light\"},\"paper_bgcolor\":\"white\",\"plot_bgcolor\":\"#E5ECF6\",\"polar\":{\"angularaxis\":{\"gridcolor\":\"white\",\"linecolor\":\"white\",\"ticks\":\"\"},\"bgcolor\":\"#E5ECF6\",\"radialaxis\":{\"gridcolor\":\"white\",\"linecolor\":\"white\",\"ticks\":\"\"}},\"scene\":{\"xaxis\":{\"backgroundcolor\":\"#E5ECF6\",\"gridcolor\":\"white\",\"gridwidth\":2,\"linecolor\":\"white\",\"showbackground\":true,\"ticks\":\"\",\"zerolinecolor\":\"white\"},\"yaxis\":{\"backgroundcolor\":\"#E5ECF6\",\"gridcolor\":\"white\",\"gridwidth\":2,\"linecolor\":\"white\",\"showbackground\":true,\"ticks\":\"\",\"zerolinecolor\":\"white\"},\"zaxis\":{\"backgroundcolor\":\"#E5ECF6\",\"gridcolor\":\"white\",\"gridwidth\":2,\"linecolor\":\"white\",\"showbackground\":true,\"ticks\":\"\",\"zerolinecolor\":\"white\"}},\"shapedefaults\":{\"line\":{\"color\":\"#2a3f5f\"}},\"ternary\":{\"aaxis\":{\"gridcolor\":\"white\",\"linecolor\":\"white\",\"ticks\":\"\"},\"baxis\":{\"gridcolor\":\"white\",\"linecolor\":\"white\",\"ticks\":\"\"},\"bgcolor\":\"#E5ECF6\",\"caxis\":{\"gridcolor\":\"white\",\"linecolor\":\"white\",\"ticks\":\"\"}},\"title\":{\"x\":0.05},\"xaxis\":{\"automargin\":true,\"gridcolor\":\"white\",\"linecolor\":\"white\",\"ticks\":\"\",\"title\":{\"standoff\":15},\"zerolinecolor\":\"white\",\"zerolinewidth\":2},\"yaxis\":{\"automargin\":true,\"gridcolor\":\"white\",\"linecolor\":\"white\",\"ticks\":\"\",\"title\":{\"standoff\":15},\"zerolinecolor\":\"white\",\"zerolinewidth\":2}}},\"title\":{\"text\":\"Training and Validation Loss\"},\"xaxis\":{\"anchor\":\"y\",\"domain\":[0.0,1.0],\"title\":{\"text\":\"Epoch\"}},\"yaxis\":{\"anchor\":\"x\",\"domain\":[0.0,1.0],\"title\":{\"text\":\"Loss\"}}},                        {\"responsive\": true}                    ).then(function(){\n",
       "                            \n",
       "var gd = document.getElementById('b2a7be01-8161-41fc-8b29-82807b941c7d');\n",
       "var x = new MutationObserver(function (mutations, observer) {{\n",
       "        var display = window.getComputedStyle(gd).display;\n",
       "        if (!display || display === 'none') {{\n",
       "            console.log([gd, 'removed!']);\n",
       "            Plotly.purge(gd);\n",
       "            observer.disconnect();\n",
       "        }}\n",
       "}});\n",
       "\n",
       "// Listen for the removal of the full notebook cells\n",
       "var notebookContainer = gd.closest('#notebook-container');\n",
       "if (notebookContainer) {{\n",
       "    x.observe(notebookContainer, {childList: true});\n",
       "}}\n",
       "\n",
       "// Listen for the clearing of the current output cell\n",
       "var outputEl = gd.closest('.output');\n",
       "if (outputEl) {{\n",
       "    x.observe(outputEl, {childList: true});\n",
       "}}\n",
       "\n",
       "                        })                };                });            </script>        </div>"
      ]
     },
     "metadata": {},
     "output_type": "display_data"
    }
   ],
   "source": [
    "fig = px.line(\n",
    "    history.history,\n",
    "    y=['loss', 'val_loss'],\n",
    "    labels={'index': \"Epoch\", 'value': \"Loss\"},\n",
    "    title=\"Training and Validation Loss\"\n",
    ")\n",
    "\n",
    "fig.show()"
   ]
  },
  {
   "cell_type": "code",
   "execution_count": 33,
   "metadata": {},
   "outputs": [
    {
     "data": {
      "text/plain": [
       "13"
      ]
     },
     "execution_count": 33,
     "metadata": {},
     "output_type": "execute_result"
    }
   ],
   "source": [
    "np.argmin(history.history['val_loss'])"
   ]
  },
  {
   "cell_type": "code",
   "execution_count": 34,
   "metadata": {},
   "outputs": [
    {
     "name": "stdout",
     "output_type": "stream",
     "text": [
      "2/2 [==============================] - 0s 2ms/step - loss: 0.4573 - accuracy: 0.7647 - auc: 0.8526\n"
     ]
    },
    {
     "data": {
      "text/plain": [
       "[0.45731091499328613, 0.7647058963775635, 0.8526315689086914]"
      ]
     },
     "execution_count": 34,
     "metadata": {},
     "output_type": "execute_result"
    }
   ],
   "source": [
    "model.evaluate(X_test, y_test)"
   ]
  },
  {
   "cell_type": "code",
   "execution_count": 35,
   "metadata": {},
   "outputs": [
    {
     "data": {
      "text/plain": [
       "34"
      ]
     },
     "execution_count": 35,
     "metadata": {},
     "output_type": "execute_result"
    }
   ],
   "source": [
    "len(y_test)"
   ]
  },
  {
   "cell_type": "code",
   "execution_count": 57,
   "metadata": {},
   "outputs": [],
   "source": [
    "fig.write_html('im.html')"
   ]
  },
  {
   "cell_type": "code",
   "execution_count": null,
   "metadata": {},
   "outputs": [],
   "source": []
  }
 ],
 "metadata": {
  "kernelspec": {
   "display_name": "Python 3.7 (Intel® oneAPI)",
   "language": "python",
   "name": "c009-intel_distribution_of_python_3_oneapi-beta05-python"
  },
  "language_info": {
   "codemirror_mode": {
    "name": "ipython",
    "version": 3
   },
   "file_extension": ".py",
   "mimetype": "text/x-python",
   "name": "python",
   "nbconvert_exporter": "python",
   "pygments_lexer": "ipython3",
   "version": "3.7.9"
  }
 },
 "nbformat": 4,
 "nbformat_minor": 4
}
